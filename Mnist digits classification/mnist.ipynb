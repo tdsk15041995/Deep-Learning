{
 "cells": [
  {
   "cell_type": "markdown",
   "metadata": {},
   "source": [
    "# MNIST digits classification using CNN"
   ]
  },
  {
   "cell_type": "code",
   "execution_count": 122,
   "metadata": {},
   "outputs": [],
   "source": [
    "#Import neccessary libraries\n",
    "\n",
    "import torch\n",
    "\n",
    "import torchvision\n",
    "\n",
    "from torchvision import transforms, utils,datasets\n",
    "from torch.autograd import Variable\n",
    "import torch.utils.data as data_utils\n",
    "import numpy as np\n",
    "import matplotlib.pyplot as graph\n",
    "\n",
    "import torch.nn.functional as F"
   ]
  },
  {
   "cell_type": "code",
   "execution_count": 123,
   "metadata": {},
   "outputs": [],
   "source": [
    "#Download data and apply transform\n",
    "\n",
    "mean_gray=0.1307\n",
    "stddev=0.3081\n",
    "\n",
    "transform=transforms.Compose([transforms.ToTensor(),transforms.Normalize((mean_gray,),(stddev,))])\n",
    "\n",
    "mnist_train=datasets.MNIST('./data',train=True,download=True,transform=transform)\n",
    "mnist_test=datasets.MNIST('./data',train=False,download=True,transform=transform)\n"
   ]
  },
  {
   "cell_type": "code",
   "execution_count": 125,
   "metadata": {},
   "outputs": [
    {
     "name": "stdout",
     "output_type": "stream",
     "text": [
      "tensor(3)\n"
     ]
    },
    {
     "data": {
      "image/png": "[encoded data removed]",
      "text/plain": [
       "<matplotlib.figure.Figure at 0x7f0e1696c940>"
      ]
     },
     "metadata": {},
     "output_type": "display_data"
    }
   ],
   "source": [
    "#look at a dataset sample\n",
    "\n",
    "img=mnist_train[12][0].numpy()*stddev + mean_gray\n",
    "\n",
    "graph.imshow(img.reshape(28,28),cmap='gray')\n",
    "\n",
    "label=mnist_train[12][1]\n",
    "print(label.data)"
   ]
  },
  {
   "cell_type": "code",
   "execution_count": 126,
   "metadata": {},
   "outputs": [],
   "source": [
    "#Using the downloaded data ,create a DataLoader for training\n",
    "\n",
    "batch_size=2048\n",
    "mnist_train_loader=torch.utils.data.DataLoader(dataset=mnist_train,batch_size=batch_size,shuffle=True)\n",
    "mnist_test_loader=torch.utils.data.DataLoader(dataset=mnist_test,batch_size=batch_size,shuffle=True)"
   ]
  },
  {
   "cell_type": "code",
   "execution_count": 127,
   "metadata": {},
   "outputs": [],
   "source": [
    "#Model definition\n",
    "\n",
    "class MNISTnet(torch.nn.Module):\n",
    "    \n",
    "    def __init__(self):\n",
    "        \n",
    "        super().__init__()\n",
    "        \n",
    "        #1st CNN Layer\n",
    "        \n",
    "        self.convolution1=torch.nn.Conv2d(1,20,kernel_size=5)\n",
    "        self.relu1=torch.nn.ReLU()\n",
    "        \n",
    "        \n",
    "        #2nd CNN layer\n",
    "        \n",
    "        \n",
    "        self.convolution2=torch.nn.Conv2d(20,30,kernel_size=5)\n",
    "        self.convolution2_drop=torch.nn.Dropout2d(p=0.5)\n",
    "        self.maxpool2=torch.nn.MaxPool2d(2)\n",
    "        self.relu2=torch.nn.ReLU()\n",
    "        \n",
    "        #Fully connected layer\n",
    "        \n",
    "        self.fully_connected_1=torch.nn.Linear(3000,500)\n",
    "        self.fully_connected_2=torch.nn.Linear(500,10)\n",
    "        \n",
    "    \n",
    "    def forward(self,input_var):\n",
    "        \n",
    "        #Passing through first Convolution layer\n",
    "        x=self.convolution1(input_var)\n",
    "        x=self.relu1(x)\n",
    "        \n",
    "        #Passing through second Convolution layer\n",
    "        x=self.convolution2(x)\n",
    "        x=self.convolution2_drop(x)\n",
    "        x=self.maxpool2(x)\n",
    "        x=self.relu2(x)\n",
    "        \n",
    "        #Reshaping 2d to 1d\n",
    "        x=x.view(-1,3000)\n",
    "        \n",
    "        #Passing through the fully connected layer\n",
    "        x=self.fully_connected_1(x)\n",
    "        x=F.relu(x)\n",
    "        x=F.dropout(x,p=0.5,training=True)\n",
    "        x=self.fully_connected_2(x)\n",
    "        \n",
    "        return x\n",
    "        \n",
    "        "
   ]
  },
  {
   "cell_type": "code",
   "execution_count": 128,
   "metadata": {},
   "outputs": [],
   "source": [
    "#Creating an instance of \n",
    "net = MNISTnet()\n",
    "\n",
    "#Define a loss function\n",
    "criterion=torch.nn.CrossEntropyLoss()\n",
    "\n",
    "#Specifying the value of learning rate\n",
    "learning_rate=0.001\n",
    "\n",
    "#Specifying the type of optimizer\n",
    "optimizer = torch.optim.SGD(net.parameters(),lr=learning_rate,momentum=0.9)\n",
    "\n"
   ]
  },
  {
   "cell_type": "code",
   "execution_count": 142,
   "metadata": {},
   "outputs": [],
   "source": [
    "#Declare list for storing performace parameter values\n",
    "\n",
    "train_loss=[]\n",
    "train_accuracy=[]\n",
    "epoch_list=[]\n"
   ]
  },
  {
   "cell_type": "code",
   "execution_count": 143,
   "metadata": {},
   "outputs": [
    {
     "name": "stdout",
     "output_type": "stream",
     "text": [
      "0 7.720526218414307 60000 55558\n",
      "1 7.491251468658447 60000 55616\n",
      "2 7.433417320251465 60000 55756\n",
      "3 7.151498317718506 60000 55871\n",
      "4 7.121023178100586 60000 55956\n"
     ]
    }
   ],
   "source": [
    "#Train the network\n",
    "\n",
    "no_of_epoch=5\n",
    "\n",
    "for epoch in range(no_of_epoch):\n",
    "    \n",
    "    #All the below declared variable are for a single epoch\n",
    "    loss_per_epoch=0\n",
    "    no_of_sample_trained=0\n",
    "    sample_correctly_trained=0\n",
    "    \n",
    "    for i,(train_features,train_labels) in enumerate(mnist_train_loader):\n",
    "        \n",
    "        train_features=Variable(train_features)\n",
    "        train_labels=Variable(train_labels)\n",
    "        \n",
    "        net.train()\n",
    "        \n",
    "        optimizer.zero_grad()\n",
    "        \n",
    "        output=net(train_features)\n",
    "        \n",
    "        loss=criterion(output,train_labels)\n",
    "        \n",
    "        loss_per_epoch += loss.data\n",
    "        \n",
    "        loss.backward()\n",
    "        \n",
    "        optimizer.step()\n",
    "        \n",
    "        no_of_sample_trained += train_labels.size(0)\n",
    "        \n",
    "        _ , predicted_labels = torch.max(output.data,1)\n",
    "        \n",
    "        sample_correctly_trained += (train_labels.data==predicted_labels).sum()\n",
    "        \n",
    "        \n",
    "    \n",
    "    train_loss.append(loss_per_epoch.item())\n",
    "    epoch_list.append(epoch)\n",
    "    train_accuracy.append(sample_correctly_trained.item()/no_of_sample_trained)\n",
    "        \n",
    "    \n",
    "    print(epoch,loss_per_epoch.item(),no_of_sample_trained,sample_correctly_trained.item())"
   ]
  },
  {
   "cell_type": "code",
   "execution_count": 144,
   "metadata": {},
   "outputs": [
    {
     "data": {
      "image/png": "[encoded data removed]",
      "text/plain": [
       "<matplotlib.figure.Figure at 0x7f0e168d4a58>"
      ]
     },
     "metadata": {},
     "output_type": "display_data"
    }
   ],
   "source": [
    "#Graph of performance parameter: Training_loss\n",
    "\n",
    "graph.plot(epoch_list,train_loss)\n",
    "graph.xlabel('Epoch')\n",
    "graph.ylabel('Training loss per epoch')\n",
    "graph.title('Epoch v/s Training loss ')\n",
    "graph.show()"
   ]
  },
  {
   "cell_type": "code",
   "execution_count": 145,
   "metadata": {},
   "outputs": [
    {
     "data": {
      "image/png": "[encoded data removed]",
      "text/plain": [
       "<matplotlib.figure.Figure at 0x7f0e169084e0>"
      ]
     },
     "metadata": {},
     "output_type": "display_data"
    }
   ],
   "source": [
    "#Graph of performance parameter: Training Accuracy\n",
    "\n",
    "graph.plot(epoch_list,train_accuracy)\n",
    "graph.xlabel('Epoch')\n",
    "graph.ylabel('Training accuracy per epoch')\n",
    "graph.title('Epoch v/s Training accuracy')\n",
    "graph.show()\n",
    "\n",
    "\n"
   ]
  },
  {
   "cell_type": "code",
   "execution_count": null,
   "metadata": {},
   "outputs": [],
   "source": []
  }
 ],
 "metadata": {
  "kernelspec": {
   "display_name": "Python 3",
   "language": "python",
   "name": "python3"
  },
  "language_info": {
   "codemirror_mode": {
    "name": "ipython",
    "version": 3
   },
   "file_extension": ".py",
   "mimetype": "text/x-python",
   "name": "python",
   "nbconvert_exporter": "python",
   "pygments_lexer": "ipython3",
   "version": "3.6.6"
  }
 },
 "nbformat": 4,
 "nbformat_minor": 2
}
